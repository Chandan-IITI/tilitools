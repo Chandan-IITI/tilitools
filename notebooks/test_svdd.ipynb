{
 "worksheets": [
  {
   "cells": [
    {
     "cell_type": "heading",
     "metadata": {},
     "level": 1,
     "source": [
      "Support Vector Data Description"
     ]
    },
    {
     "cell_type": "markdown",
     "metadata": {},
     "source": [
      "The problem of *data description* or one-class classification is to make a description of a training set of objects and to detect which (new) objects resemble this training set. \n",
      "\n",
      "This has been greatly used in outlier detection, i.e. the detection of uncharacteristic objects from a data set. Furthermore, another possible application of data description is in a classification problem where one of the classes is sampled very well, while the other class is severely undersampled. "
     ]
    },
    {
     "cell_type": "markdown",
     "metadata": {},
     "source": [
      "Here, the method proposed by Tax and Duin in 2004. called *Support Vector Data Description* has been implemented. This method obtains a spherically shaped boundary around the complete target set. To minimize the chance of accepting outliers, the volume of this description is minimized. \n",
      "\n",
      "The error function to be minimized is defined as:\n",
      "\n",
      "$$F(R, \\mathbf{a}) = R^2$$\n",
      "\n",
      "with the constraint:\n",
      "\n",
      "$$\\|\\Phi(\\mathbf{x}_i)-\\mathbf{a}\\|^2 \\le R^2, \\hspace{3mm}\\forall i,$$\n",
      "\n",
      "where $\\Phi$ defines an implicit mapping of the data into an another (possibly highdimensional) feature space.\n",
      "\n",
      "To allow the possibility of outliers in the training set, the distance from $\\Phi(\\mathbf{x}_i)$ to the center $\\mathbf{a}$ should not be strictly smaller than $R^2$, but larger distances should be penalized. Therefore, the slack variables $\\xi_i \\ge 0$ are introduced, so the minimization problem becomes:\n",
      "\n",
      "$$F(R, \\mathbf{a}) = R^2 + C\\sum_i{\\xi_i}$$\n",
      "with the constraint which ensures that almost all objectives are within the sphere:\n",
      "\n",
      "$$\\|\\Phi(\\mathbf{x}_i)-\\mathbf{a}\\|^2 \\le R^2 + \\xi_i, \\hspace{3mm} \\xi_i \\ge 0 \\hspace{3mm} \\forall i.$$\n",
      "\n",
      "\n",
      "This optimization problem can be solved using the Lagrange multipliers, so the following expression is obtained:\n",
      "\n",
      "<!--$$L(R,\\mathbf{a}, \\alpha_i, \\gamma_i, \\xi_i) = R^2 + C\\sum_i{\\xi_i} - \\sum_i{\\alpha_i(R^2 + \\xi_i - ({\\|\\mathbf{x}_i\\|}^2 - 2\\mathbf{a}\\mathbf{x}_i + {\\|\\mathbf{a}\\|}^2))} - \\sum_i{\\gamma_i\\xi_i},$$\n",
      "\n",
      "where $L$ should be minimized with respect to $R, \\mathbf{a}, \\xi_i$ and maximized with respect to the Lagrange multipliers $\\alpha_i \\ge 0$ and $\\gamma_i \\ge 0$. -->\n",
      "\n",
      "<!--After setting the partial derivatives to zero and resubstituting the obtained equations into $L$,--> \n",
      "\n",
      "$$L = \\sum_i{\\alpha_i(\\Phi(\\mathbf{x}_i)\\cdot\\Phi(\\mathbf{x}_i))} -  \\sum_i\\sum_j{\\alpha_i \\alpha_j(\\Phi(\\mathbf{x}_i)\\cdot\\Phi(\\mathbf{x}_j))}$$\n",
      "\n",
      "subject to the constraints:\n",
      "\n",
      "$$\\sum_i{\\alpha_i} = 1,$$\n",
      "\n",
      "$$\\mathbf{a} = \\sum_i{\\alpha_i\\Phi(\\mathbf{x}_i)},$$\n",
      "\n",
      "$$0 \\le \\alpha_i \\le C.$$\n",
      "\n",
      "Only objects $\\Phi(\\mathbf{x}_i)$ with $\\alpha_i \\gt 0$ are needed in the data description and these objects are called the *support vectors* (SVs) of the description.\n",
      "\n",
      "The above used inner products $(\\Phi(\\mathbf{x}_i)\\cdot\\Phi(\\mathbf{x}_j))$ can be replaced by a *kernel* function $K(\\mathbf{x}_i, \\mathbf{x}_j) = (\\Phi(\\mathbf{x}_i)\\cdot\\Phi(\\mathbf{x}_j))$ to obtain more flexible methods, so the optimization problem above becomes:\n",
      "\n",
      "$$L = \\sum_i{\\alpha_iK(\\mathbf{x}_i, \\mathbf{x}_i)} -  \\sum_i\\sum_j{\\alpha_i \\alpha_jK(\\mathbf{x}_i, \\mathbf{x}_j)}.$$\n"
     ]
    },
    {
     "cell_type": "code",
     "execution_count": null,
     "metadata": {},
     "outputs": [],
     "input": [
      "import cvxopt as co\n",
      "import numpy as np\n",
      "import pylab as pl\n",
      "import matplotlib.pyplot as plt\n",
      "from svdd import SVDD\n",
      "from kernel import Kernel"
     ],
     "language": "python",
     "prompt_number": 7
    },
    {
     "cell_type": "code",
     "execution_count": null,
     "metadata": {},
     "outputs": [
      {
       "output_type": "stream",
       "stream": "stdout",
       "text": [
        "Training phase started...\n",
        "\n",
        "Calculating Gaussian kernel with size 100x100.\n",
        "Creating new SVDD with 100 samples and C=0.9.\n",
        "     pcost       dcost       gap    pres   dres\n",
        " 0: -2.9021e-01 -9.3109e+01  4e+02  2e+00  6e-16\n",
        " 1: -2.4204e-01 -2.8832e+01  3e+01  2e-02  9e-16\n",
        " 2: -2.0686e-01 -1.0536e+00  9e-01  2e-04  8e-16\n",
        " 3: -2.2971e-01 -5.0176e-01  3e-01  6e-05  4e-16\n",
        " 4: -2.8601e-01 -3.9723e-01  1e-01  2e-16  3e-16\n",
        " 5: -3.0155e-01 -3.3739e-01  4e-02  2e-16  3e-16\n",
        " 6: -3.0978e-01 -3.2000e-01  1e-02  2e-16  3e-16\n",
        " 7: -3.1337e-01 -3.1370e-01  3e-04  2e-16  4e-16\n",
        " 8: -3.1358e-01 -3.1358e-01  5e-06  2e-16  4e-16\n",
        " 9: -3.1358e-01 -3.1358e-01  5e-08  2e-16  4e-16\n",
        "Optimal solution found.\n",
        "Threshold is [ 6.27e-01]\n",
        "\n",
        "Training phase finished.\n"
       ]
      }
     ],
     "input": [
      "# kernel parameter and type\n",
      "kparam = 0.1\n",
      "ktype = 'rbf'\n",
      "# generate 100 samples of raw training data with dimensionality d=2\n",
      "Dtrain = co.normal(2,100)\n",
      "print 'Training phase started...\\n'\n",
      "# initialize the training kernel of the given type with the given parameter\n",
      "kernel = Kernel.get_kernel(Dtrain,Dtrain,ktype,kparam)\n",
      "# train svdd\n",
      "svdd = SVDD(kernel,0.9)\n",
      "svdd.train_dual()\n",
      "print 'Training phase finished.'"
     ],
     "language": "python",
     "prompt_number": 8
    },
    {
     "cell_type": "code",
     "execution_count": null,
     "metadata": {},
     "outputs": [],
     "input": [
      "# generate the test data grid with 6400 samples with the same dimensionality d=2 as the training data\n",
      "delta = 0.1\n",
      "x = np.arange(-4.0, 4.0, delta)\n",
      "y = np.arange(-4.0, 4.0, delta)\n",
      "X, Y = np.meshgrid(x, y)    \n",
      "(sx,sy) = X.shape\n",
      "Xf = np.reshape(X,(1,sx*sy))\n",
      "Yf = np.reshape(Y,(1,sx*sy))\n",
      "Dtest = np.append(Xf,Yf,axis=0)"
     ],
     "language": "python",
     "prompt_number": 9
    },
    {
     "cell_type": "code",
     "execution_count": null,
     "metadata": {},
     "outputs": [
      {
       "output_type": "stream",
       "stream": "stdout",
       "text": [
        "Test phase started...\n",
        "\n",
        "Calculating Gaussian kernel with size 6400x5.\n",
        "Gaussian kernel diagonal is always exp(0)=1."
       ]
      },
      {
       "output_type": "stream",
       "stream": "stdout",
       "text": [
        "\n",
        "\n",
        "Test phase finished.\n"
       ]
      }
     ],
     "input": [
      "print 'Test phase started...\\n'\n",
      "Dtest = co.matrix(Dtest)\n",
      "# compute the support vector indices\n",
      "sv_indices = svdd.get_support_dual()\n",
      "# initialize the test kernel of the given type with the given parameter\t\n",
      "kernel = Kernel.get_kernel(Dtest, Dtrain[:, sv_indices], ktype, kparam)\n",
      "# for svdd we need the data norms additionally\n",
      "norms = Kernel.get_diag_kernel(Dtest, ktype, kparam)\n",
      "# apply the svdd\n",
      "(res,state) = svdd.apply_dual(kernel,norms)\n",
      "print '\\nTest phase finished.'"
     ],
     "language": "python",
     "prompt_number": 10
    },
    {
     "cell_type": "code",
     "execution_count": null,
     "metadata": {},
     "outputs": [
      {
       "output_type": "display_data",
       "png": "[encoded data removed]",
       "metadata": {}
      }
     ],
     "input": [
      "# nice visualization\n",
      "Z = np.reshape(res,(sx,sy))\n",
      "plt.contourf(X, Y, Z)\n",
      "plt.contour(X, Y, Z, [np.array(svdd.get_threshold())[0,0]])\n",
      "plt.scatter(Dtrain[0, sv_indices],Dtrain[1, sv_indices],40,c='k') \n",
      "plt.scatter(Dtrain[0,:],Dtrain[1,:],10)\n",
      "plt.show()"
     ],
     "language": "python",
     "prompt_number": 11
    }
   ]
  }
 ],
 "cells": [],
 "metadata": {
  "name": "test_svdd"
 },
 "nbformat": 3,
 "nbformat_minor": 0
}