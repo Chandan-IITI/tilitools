{
 "cells": [
  {
   "cell_type": "markdown",
   "metadata": {},
   "source": [
    "Bayesian Data Description\n",
    "==============================\n"
   ]
  },
  {
   "cell_type": "code",
   "execution_count": 1,
   "metadata": {},
   "outputs": [
    {
     "ename": "ImportError",
     "evalue": "No module named tilitools.bdd",
     "traceback": [
      "\u001b[0;31m---------------------------------------------------------------------------\u001b[0m",
      "\u001b[0;31mImportError\u001b[0m                               Traceback (most recent call last)",
      "\u001b[0;32m<ipython-input-1-10043b7a4a85>\u001b[0m in \u001b[0;36m<module>\u001b[0;34m()\u001b[0m\n\u001b[1;32m      2\u001b[0m \u001b[0;32mimport\u001b[0m \u001b[0mmatplotlib\u001b[0m\u001b[0;34m.\u001b[0m\u001b[0mpylab\u001b[0m \u001b[0;32mas\u001b[0m \u001b[0mplt\u001b[0m\u001b[0;34m\u001b[0m\u001b[0m\n\u001b[1;32m      3\u001b[0m \u001b[0;34m\u001b[0m\u001b[0m\n\u001b[0;32m----> 4\u001b[0;31m \u001b[0;32mfrom\u001b[0m \u001b[0mtilitools\u001b[0m\u001b[0;34m.\u001b[0m\u001b[0mbdd\u001b[0m \u001b[0;32mimport\u001b[0m \u001b[0mBDD\u001b[0m\u001b[0;34m\u001b[0m\u001b[0m\n\u001b[0m\u001b[1;32m      5\u001b[0m \u001b[0;32mfrom\u001b[0m \u001b[0mtilitools\u001b[0m\u001b[0;34m.\u001b[0m\u001b[0mutils_kernel\u001b[0m \u001b[0;32mimport\u001b[0m \u001b[0mget_kernel\u001b[0m\u001b[0;34m,\u001b[0m \u001b[0mget_diag_kernel\u001b[0m\u001b[0;34m\u001b[0m\u001b[0m\n\u001b[1;32m      6\u001b[0m \u001b[0;34m\u001b[0m\u001b[0m\n",
      "\u001b[0;31mImportError\u001b[0m: No module named tilitools.bdd"
     ],
     "output_type": "error"
    }
   ],
   "source": [
    "import numpy as np\n",
    "import matplotlib.pylab as plt\n",
    "\n",
    "from tilitools.bdd import BDD\n",
    "from tilitools.utils_kernel import get_kernel, get_diag_kernel\n",
    "\n",
    "%matplotlib inline"
   ]
  },
  {
   "cell_type": "code",
   "execution_count": 13,
   "metadata": {},
   "outputs": [
    {
     "name": "stdout",
     "output_type": "stream",
     "text": [
      "(2, 200)\n",
      "Calculating Gaussian kernel with size 200x200 and sigma2=0.1.\n",
      "Creating new SVDD with 200 samples.\n"
     ]
    }
   ],
   "source": [
    "kparam = 0.1\n",
    "ktype = 'rbf'\n",
    "\n",
    "# generate raw training data\n",
    "Dtrain1 = np.random.randn(2, 100)*0.8\n",
    "Dtrain2 = np.random.randn(2, 100)*0.6 + 1.8\n",
    "Dtrain = np.concatenate([Dtrain1.T, Dtrain2.T]).T\n",
    "print Dtrain.shape\n",
    "kernel = get_kernel(Dtrain, Dtrain, ktype, kparam)\n",
    "bdd = BDD(kernel)\n",
    "bdd.fit()"
   ]
  },
  {
   "cell_type": "code",
   "execution_count": 14,
   "metadata": {},
   "outputs": [
    {
     "name": "stdout",
     "output_type": "stream",
     "text": [
      "(2, 6400)\n",
      "Calculating Gaussian kernel with size 6400x200 and sigma2=0.1.\n",
      "Gaussian kernel diagonal is always exp(0)=1.\n"
     ]
    },
    {
     "data": {
      "image/png": "[encoded data removed]",
      "text/plain": [
       "<matplotlib.figure.Figure at 0x10d9ddf50>"
      ]
     },
     "metadata": {},
     "output_type": "display_data"
    }
   ],
   "source": [
    "# generate test data grid\n",
    "delta = 0.1\n",
    "x = np.arange(-4.0, 4.0, delta)\n",
    "y = np.arange(-4.0, 4.0, delta)\n",
    "X, Y = np.meshgrid(x, y)\n",
    "sx, sy = X.shape\n",
    "Xf = np.reshape(X, (1, sx*sy))\n",
    "Yf = np.reshape(Y, (1, sx*sy))\n",
    "Dtest = np.append(Xf, Yf, axis=0)\n",
    "print Dtest.shape\n",
    "\n",
    "# build kernel map\n",
    "kernel_map = get_kernel(Dtest, Dtrain, ktype, kparam)\n",
    "norms = get_diag_kernel(Dtest, ktype, kparam)\n",
    "scores, mat = bdd.apply(Dtest, kernel_map, norms)\n",
    "Z = np.reshape(scores,(sx,sy))\n",
    "plt.contourf(X, Y, Z)\n",
    "plt.scatter(Dtrain[0,:],Dtrain[1,:],10)\n",
    "plt.show()"
   ]
  },
  {
   "cell_type": "code",
   "execution_count": null,
   "metadata": {},
   "outputs": [],
   "source": []
  }
 ],
 "metadata": {
  "kernelspec": {
   "display_name": "Python 2",
   "language": "python",
   "name": "python2"
  },
  "language_info": {
   "codemirror_mode": {
    "name": "ipython",
    "version": 2
   },
   "file_extension": ".py",
   "mimetype": "text/x-python",
   "name": "python",
   "nbconvert_exporter": "python",
   "pygments_lexer": "ipython2",
   "version": "2.7.14"
  }
 },
 "nbformat": 4,
 "nbformat_minor": 1
}
