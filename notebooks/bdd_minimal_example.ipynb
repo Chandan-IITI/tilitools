{
 "cells": [
  {
   "cell_type": "markdown",
   "metadata": {},
   "source": [
    "Bayesian Data Description\n",
    "==============================\n"
   ]
  },
  {
   "cell_type": "code",
   "execution_count": 1,
   "metadata": {},
   "outputs": [],
   "source": [
    "import numpy as np\n",
    "import matplotlib.pylab as plt\n",
    "\n",
    "from tilitools.bdd import BDD\n",
    "from tilitools.utils_kernel import get_kernel, get_diag_kernel\n",
    "\n",
    "%matplotlib inline"
   ]
  },
  {
   "cell_type": "code",
   "execution_count": 8,
   "metadata": {},
   "outputs": [
    {
     "name": "stdout",
     "output_type": "stream",
     "text": [
      "(2, 200)\nCalculating Gaussian kernel with size 200x200 and sigma2=0.1.\nCreating new SVDD with 200 samples.\n"
     ]
    }
   ],
   "source": [
    "kparam = 0.1\n",
    "ktype = 'rbf'\n",
    "\n",
    "# generate raw training data\n",
    "Dtrain1 = np.random.randn(2, 100)*0.2\n",
    "Dtrain2 = np.random.randn(2, 100)*0.3 + 0.8\n",
    "Dtrain = np.concatenate([Dtrain1.T, Dtrain2.T]).T\n",
    "print Dtrain.shape\n",
    "kernel = get_kernel(Dtrain, Dtrain, ktype, kparam)\n",
    "bdd = BDD(kernel)\n",
    "bdd.fit()"
   ]
  },
  {
   "cell_type": "code",
   "execution_count": 9,
   "metadata": {},
   "outputs": [
    {
     "name": "stdout",
     "output_type": "stream",
     "text": [
      "(2, 6400)\nCalculating Gaussian kernel with size 6400x200 and sigma2=0.1.\n"
     ]
    },
    {
     "name": "stdout",
     "output_type": "stream",
     "text": [
      "Gaussian kernel diagonal is always exp(0)=1.\n"
     ]
    },
    {
     "data": {
      "image/png": "[encoded data removed]"
     },
     "output_type": "display_data",
     "text": [
      "<matplotlib.figure.Figure at 0x104d3c290>"
     ],
     "metadata": {}
    }
   ],
   "source": [
    "# generate test data grid\n",
    "delta = 0.1\n",
    "x = np.arange(-4.0, 4.0, delta)\n",
    "y = np.arange(-4.0, 4.0, delta)\n",
    "X, Y = np.meshgrid(x, y)\n",
    "sx, sy = X.shape\n",
    "Xf = np.reshape(X, (1, sx*sy))\n",
    "Yf = np.reshape(Y, (1, sx*sy))\n",
    "Dtest = np.append(Xf, Yf, axis=0)\n",
    "print Dtest.shape\n",
    "\n",
    "# build kernel map\n",
    "kernel_map = get_kernel(Dtest, Dtrain, ktype, kparam)\n",
    "norms = get_diag_kernel(Dtest, ktype, kparam)\n",
    "scores, mat = bdd.apply(Dtest, kernel_map, norms)\n",
    "Z = np.reshape(scores,(sx,sy))\n",
    "plt.contourf(X, Y, Z)\n",
    "plt.scatter(Dtrain[0,:],Dtrain[1,:],10)\n",
    "plt.show()"
   ]
  }
 ],
 "metadata": {},
 "nbformat": 4,
 "nbformat_minor": 0
}