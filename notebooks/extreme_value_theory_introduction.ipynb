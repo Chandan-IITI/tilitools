{
 "cells": [
  {
   "cell_type": "markdown",
   "metadata": {},
   "source": [
    "# Introduction to Extreme Value Theory (EVT)\n",
    "In this notebook, we gonna play around with EVT, i.e. in combination with regression problems to unveil induced anomalies. In EVT, not unlike the central limit theorem, we are interested in modelling the behavior of extremes (minimum or maximum) of a sample. In [2], the authors showed that if a distribution of maximas (minima) is not degenerate (has only one non-zero support for univariate distributions), it has to follow one of the three extreme value distributions (Weibull, Gumbal, Frechet) which have later been combined to the generalized extreme value distribution (GEVd) [1].\n",
    "\n",
    "Basically, approaches use one of two distinct techniques to model extremes: \n",
    "- the 'original' AM/BM (anual maxima/block maxima) which has been proposed by Fisher and Tippett, 1928 [2]\n",
    "- more recently proposed POT (peaks-over-threshold) by Balkema and de Haan (1974)[4] and Pickands (1975) [3] (and  modern PORT (peaks-over-random-threshold))\n",
    "\n",
    "\n",
    "#### References\n",
    "[1] A. F. Jenkinson, “The frequency distribution of the annual maximum (or minimum) values of meteorological elements,” Q. J. R. Meteorol. Soc., vol. 81, no. 348, pp. 158–171, 1955.\n",
    "\n",
    "[2] R. A. Fisher and L. H. C. Tippett, “Limiting forms of the frequency distribution of the largest or smallest member of a sample,” Math. Proc. Cambridge Philos. Soc., vol. 24, no. 2, pp. 180–190, 1928.\n",
    "\n",
    "[3] J. . Pickands, “Statistical inference using extreme order statistics,” Ann. Stat., vol. 3, no. 1, pp. 119–131, 1975.\n",
    "\n",
    "[4] A. A. Balkema and L. de Haan, “Residual Life Time at Great Age,” Ann. Probab., vol. 2, no. 5, pp. 792–804, 1974."
   ]
  },
  {
   "cell_type": "code",
   "execution_count": 1,
   "metadata": {},
   "outputs": [],
   "source": [
    "import numpy as np\n",
    "import matplotlib.pyplot as plt\n",
    "from scipy import stats, optimize"
   ]
  },
  {
   "cell_type": "code",
   "execution_count": null,
   "metadata": {},
   "outputs": [],
   "source": [
    "def "
   ]
  }
 ],
 "metadata": {
  "kernelspec": {
   "display_name": "Python 3",
   "language": "python",
   "name": "python3"
  },
  "language_info": {
   "codemirror_mode": {
    "name": "ipython",
    "version": 3
   },
   "file_extension": ".py",
   "mimetype": "text/x-python",
   "name": "python",
   "nbconvert_exporter": "python",
   "pygments_lexer": "ipython3",
   "version": "3.6.3"
  }
 },
 "nbformat": 4,
 "nbformat_minor": 2
}
