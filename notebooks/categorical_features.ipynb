{
 "cells": [
  {
   "cell_type": "code",
   "execution_count": 26,
   "metadata": {},
   "outputs": [],
   "source": [
    "%matplotlib inline\n",
    "import numpy as np\n",
    "import matplotlib.pyplot as plt"
   ]
  },
  {
   "cell_type": "code",
   "execution_count": 228,
   "metadata": {},
   "outputs": [],
   "source": [
    "SAMPLES = 200\n",
    "CATEGORIES = 6\n",
    "\n",
    "d = np.random.randint(0, CATEGORIES, size=SAMPLES)\n",
    "print(d)"
   ]
  },
  {
   "cell_type": "code",
   "execution_count": 235,
   "metadata": {},
   "outputs": [
    {
     "name": "stdout",
     "output_type": "stream",
     "text": [
      "[[ 0.  0.  0. ...,  0.  0.  0.]\n [ 1.  0.  0. ...,  1.  0.  0.]\n [ 0.  0.  0. ...,  0.  0.  1.]\n [ 0.  0.  1. ...,  0.  0.  0.]\n [ 0.  1.  0. ...,  0.  0.  0.]\n [ 0.  0.  0. ...,  0.  1.  0.]]\n[[-0.135 -0.135 -0.135 ..., -0.135 -0.135 -0.135]\n [ 0.87  -0.13  -0.13  ...,  0.87  -0.13  -0.13 ]\n [-0.185 -0.185 -0.185 ..., -0.185 -0.185  0.815]\n [-0.19  -0.19   0.81  ..., -0.19  -0.19  -0.19 ]\n [-0.2    0.8   -0.2   ..., -0.2   -0.2   -0.2  ]\n [-0.16  -0.16  -0.16  ..., -0.16   0.84  -0.16 ]]\n[[ 27.   0.   0.   0.   0.   0.]\n [  0.  26.   0.   0.   0.   0.]\n [  0.   0.  37.   0.   0.   0.]\n [  0.   0.   0.  38.   0.   0.]\n [  0.   0.   0.   0.  40.   0.]\n [  0.   0.   0.   0.   0.  32.]] \n[[ 23.355  -3.51   -4.995  -5.13   -5.4    -4.32 ]\n [ -3.51   22.62   -4.81   -4.94   -5.2    -4.16 ]\n [ -4.995  -4.81   30.155  -7.03   -7.4    -5.92 ]\n [ -5.13   -4.94   -7.03   30.78   -7.6    -6.08 ]\n [ -5.4    -5.2    -7.4    -7.6    32.     -6.4  ]\n [ -4.32   -4.16   -5.92   -6.08   -6.4    26.88 ]]\n"
     ]
    }
   ],
   "source": [
    "X = np.zeros((CATEGORIES, SAMPLES))\n",
    "for dim in range(CATEGORIES):\n",
    "    X[dim, d==dim] = 1.\n",
    "C = X.dot(X.T)\n",
    "print(X)\n",
    "Xm = X - np.repeat(np.mean(X, axis=1)[:, np.newaxis], SAMPLES, axis=1)\n",
    "Cm = Xm.dot(Xm.T)\n",
    "print(Xm)\n",
    "\n",
    "print C,'\\n', Cm"
   ]
  },
  {
   "cell_type": "code",
   "execution_count": 237,
   "metadata": {},
   "outputs": [
    {
     "name": "stdout",
     "output_type": "stream",
     "text": [
      "[ 27.  26.  37.  38.  40.  32.]\n\n\n0 : [ 1.  0.  0.  0.  0.  0.]\n1 : [ 0.  1.  0.  0.  0.  0.]\n2 : [ 0.  0.  1.  0.  0.  0.]\n3 : [ 0.  0.  0.  1.  0.  0.]\n4 : [ 0.  0.  0.  0.  1.  0.]\n5 : [ 0.  0.  0.  0.  0.  1.]\n"
     ]
    }
   ],
   "source": [
    "u, v = np.linalg.eig(C)\n",
    "print u\n",
    "print '\\n'\n",
    "for dim in range(DIM):\n",
    "    print dim, ':', v[:, dim]"
   ]
  },
  {
   "cell_type": "code",
   "execution_count": 242,
   "metadata": {},
   "outputs": [
    {
     "name": "stdout",
     "output_type": "stream",
     "text": [
      "0 : 0.0 =  [-0.40824829 -0.40824829 -0.40824829 -0.40824829 -0.40824829 -0.40824829]\n1 : 26.4 =  [-0.59708872  0.79551745 -0.04488958 -0.04212172 -0.03780888 -0.07360855]\n2 : 28.9 =  [-0.67022014 -0.42538521  0.22014277  0.20115554  0.17347547  0.50083157]\n3 : 33.7 =  [-0.16091965 -0.13481134  0.44589349  0.35166962  0.25283015 -0.75466228]\n4 : 39.3 =  [-0.03399226 -0.03026656 -0.25179939 -0.462249    0.84630256 -0.06799536]\n5 : 37.5 =  [ 0.02393214  0.02103762  0.72154798 -0.67360959 -0.14716986  0.05426172]\n\n[[ 23.355  -3.51   -4.995  -5.13   -5.4    -4.32 ]\n [ -3.51   22.62   -4.81   -4.94   -5.2    -4.16 ]\n [ -4.995  -4.81   30.155  -7.03   -7.4    -5.92 ]\n [ -5.13   -4.94   -7.03   30.78   -7.6    -6.08 ]\n [ -5.4    -5.2    -7.4    -7.6    32.     -6.4  ]\n [ -4.32   -4.16   -5.92   -6.08   -6.4    26.88 ]]\n\n\n[-0.66432378 -0.47769645 -0.26724684 -0.13788405 -0.08344281 -0.04943972\n -0.04571401  0.03032344  0.03321795  0.06354754  0.73083379  0.83085511]\n"
     ]
    }
   ],
   "source": [
    "u, v = np.linalg.eig(Cm)\n",
    "for dim in range(DIM):\n",
    "    print dim, ': {0:1.1f} = '.format(u[dim]), v[:, dim]\n",
    "print ''\n",
    "print v.dot(np.diag(u).dot(v.T))\n",
    "print '\\n'\n",
    "R = v[:,[4,5]].T.dot(Xm)\n",
    "print np.unique(R)"
   ]
  },
  {
   "cell_type": "code",
   "execution_count": 247,
   "metadata": {},
   "outputs": [
    {
     "data": {
      "text/plain": [
       "[<matplotlib.lines.Line2D at 0x1a14b5add0>]"
      ]
     },
     "execution_count": 247,
     "output_type": "execute_result",
     "metadata": {}
    },
    {
     "data": {
      "image/png": "[encoded data removed]"
     },
     "output_type": "display_data",
     "text": [
      "<matplotlib.figure.Figure at 0x1a1480bf90>"
     ],
     "metadata": {}
    }
   ],
   "source": [
    "plt.plot(R[0,:], R[1,:], '.b')"
   ]
  },
  {
   "cell_type": "code",
   "execution_count": null,
   "metadata": {},
   "outputs": [],
   "source": [
    ""
   ]
  }
 ],
 "metadata": {},
 "nbformat": 4,
 "nbformat_minor": 0
}