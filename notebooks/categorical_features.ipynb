{
 "cells": [
  {
   "cell_type": "code",
   "execution_count": null,
   "metadata": {},
   "outputs": [],
   "source": [
    "%matplotlib inline\n",
    "import numpy as np\n",
    "import matplotlib.pyplot as plt"
   ]
  },
  {
   "cell_type": "code",
   "execution_count": 10,
   "metadata": {},
   "outputs": [
    {
     "name": "stdout",
     "output_type": "stream",
     "text": [
      "[4 2 5 5 3 1 3 0 2 3 2 2 3 3 1 4 3 3 5 5 3 1 0 3 4 0 2 2 1 5 5 2 5 2 4 3 1\n",
      " 3 1 5 0 0 4 4 5 5 3 0 5 4 3 5 3 4 3 0 2 2 2 5 0 4 4 5 3 0 0 3 1 5 3 0 4 4\n",
      " 1 4 0 3 0 3 2 4 4 4 1 1 1 1 0 2 1 0 0 3 0 1 5 1 4 4 1 3 4 5 0 4 3 0 2 1 3\n",
      " 5 3 5 0 1 2 1 0 3 0 5 0 3 0 5 3 5 0 1 4 3 3 3 3 4 1 4 4 3 2 0 2 0 5 1 2 2\n",
      " 1 4 1 4 4 1 2 3 1 4 1 0 0 4 0 1 0 4 2 1 1 0 3 4 0 3 1 5 1 3 3 1 3 2 0 2 5\n",
      " 2 4 5 3 2 5 2 5 5 0 4 5 3 2 3]\n"
     ]
    }
   ],
   "source": [
    "SAMPLES = 200\n",
    "CATEGORIES = 6\n",
    "\n",
    "d = np.random.randint(0, CATEGORIES, size=SAMPLES)\n",
    "print(d)"
   ]
  },
  {
   "cell_type": "code",
   "execution_count": 11,
   "metadata": {},
   "outputs": [
    {
     "name": "stdout",
     "output_type": "stream",
     "text": [
      "[[ 0.  0.  0. ...,  0.  0.  0.]\n",
      " [ 0.  0.  0. ...,  0.  0.  0.]\n",
      " [ 0.  1.  0. ...,  0.  1.  0.]\n",
      " [ 0.  0.  0. ...,  1.  0.  1.]\n",
      " [ 1.  0.  0. ...,  0.  0.  0.]\n",
      " [ 0.  0.  1. ...,  0.  0.  0.]]\n",
      "[[-0.175 -0.175 -0.175 ..., -0.175 -0.175 -0.175]\n",
      " [-0.165 -0.165 -0.165 ..., -0.165 -0.165 -0.165]\n",
      " [-0.135  0.865 -0.135 ..., -0.135  0.865 -0.135]\n",
      " [-0.21  -0.21  -0.21  ...,  0.79  -0.21   0.79 ]\n",
      " [ 0.835 -0.165 -0.165 ..., -0.165 -0.165 -0.165]\n",
      " [-0.15  -0.15   0.85  ..., -0.15  -0.15  -0.15 ]]\n",
      "[[ 35.   0.   0.   0.   0.   0.]\n",
      " [  0.  33.   0.   0.   0.   0.]\n",
      " [  0.   0.  27.   0.   0.   0.]\n",
      " [  0.   0.   0.  42.   0.   0.]\n",
      " [  0.   0.   0.   0.  33.   0.]\n",
      " [  0.   0.   0.   0.   0.  30.]] \n",
      "[[ 28.875  -5.775  -4.725  -7.35   -5.775  -5.25 ]\n",
      " [ -5.775  27.555  -4.455  -6.93   -5.445  -4.95 ]\n",
      " [ -4.725  -4.455  23.355  -5.67   -4.455  -4.05 ]\n",
      " [ -7.35   -6.93   -5.67   33.18   -6.93   -6.3  ]\n",
      " [ -5.775  -5.445  -4.455  -6.93   27.555  -4.95 ]\n",
      " [ -5.25   -4.95   -4.05   -6.3    -4.95   25.5  ]]\n"
     ]
    }
   ],
   "source": [
    "X = np.zeros((CATEGORIES, SAMPLES))\n",
    "for dim in range(CATEGORIES):\n",
    "    X[dim, d==dim] = 1.\n",
    "C = X.dot(X.T)\n",
    "print(X)\n",
    "Xm = X - np.repeat(np.mean(X, axis=1)[:, np.newaxis], SAMPLES, axis=1)\n",
    "Cm = Xm.dot(Xm.T)\n",
    "print(Xm)\n",
    "\n",
    "print C,'\\n', Cm"
   ]
  },
  {
   "cell_type": "code",
   "execution_count": 12,
   "metadata": {},
   "outputs": [
    {
     "name": "stdout",
     "output_type": "stream",
     "text": [
      "[ 35.  33.  27.  42.  33.  30.]\n",
      "\n",
      "\n",
      "0 : [ 1.  0.  0.  0.  0.  0.]\n",
      "1 : [ 0.  1.  0.  0.  0.  0.]\n",
      "2 : [ 0.  0.  1.  0.  0.  0.]\n",
      "3 : [ 0.  0.  0.  1.  0.  0.]\n",
      "4 : [ 0.  0.  0.  0.  1.  0.]\n",
      "5 : [ 0.  0.  0.  0.  0.  1.]\n"
     ]
    }
   ],
   "source": [
    "u, v = np.linalg.eig(C)\n",
    "print u\n",
    "print '\\n'\n",
    "for dim in range(CATEGORIES):\n",
    "    print dim, ':', v[:, dim]"
   ]
  },
  {
   "cell_type": "code",
   "execution_count": 13,
   "metadata": {},
   "outputs": [
    {
     "name": "stdout",
     "output_type": "stream",
     "text": [
      "0 : 0.0 =  [-0.40824829 -0.40824829 -0.40824829 -0.40824829 -0.40824829 -0.40824829]\n",
      "1 : 40.0 =  [-0.29287794 -0.1976526  -0.08728619  0.90144382 -0.1976526  -0.12597449]\n",
      "2 : 27.8 =  [-0.12715578 -0.16593359  0.89227183 -0.07740842 -0.16593359 -0.35584044]\n",
      "3 : 34.4 =  [ 0.83285895 -0.37722617 -0.05672335  0.0847988  -0.37722617 -0.10648207]\n",
      "4 : 30.8 =  [ 0.19425042  0.35275097 -0.16232037  0.08688769  0.35275097 -0.82431967]\n",
      "5 : 33.0 =  [  5.20975362e-15  -7.07106781e-01  -1.63376803e-15   1.84866604e-15\n",
      "   7.07106781e-01  -2.65793797e-15]\n",
      "\n",
      "[[ 28.875  -5.775  -4.725  -7.35   -5.775  -5.25 ]\n",
      " [ -5.775  27.555  -4.455  -6.93   -5.445  -4.95 ]\n",
      " [ -4.725  -4.455  23.355  -5.67   -4.455  -4.05 ]\n",
      " [ -7.35   -6.93   -5.67   33.18   -6.93   -6.3  ]\n",
      " [ -5.775  -5.445  -4.455  -6.93   27.555  -4.95 ]\n",
      " [ -5.25   -4.95   -4.05   -6.3    -4.95   25.5  ]]\n",
      "\n",
      "\n",
      "[ -8.47406523e-01  -7.07106781e-01  -1.85407231e-01  -3.05300095e-15\n",
      "  -2.03264194e-15   1.45068280e-15   4.82298524e-15   6.38008362e-02\n",
      "   1.71163560e-01   3.29664109e-01   3.29664109e-01   7.07106781e-01]\n"
     ]
    }
   ],
   "source": [
    "u, v = np.linalg.eig(Cm)\n",
    "for dim in range(CATEGORIES):\n",
    "    print dim, ': {0:1.1f} = '.format(u[dim]), v[:, dim]\n",
    "print ''\n",
    "print v.dot(np.diag(u).dot(v.T))\n",
    "print '\\n'\n",
    "R = v[:,[4,5]].T.dot(Xm)\n",
    "print np.unique(R)"
   ]
  },
  {
   "cell_type": "code",
   "execution_count": 14,
   "metadata": {},
   "outputs": [
    {
     "data": {
      "text/plain": [
       "[<matplotlib.lines.Line2D at 0x10bd29fd0>]"
      ]
     },
     "execution_count": 14,
     "metadata": {},
     "output_type": "execute_result"
    },
    {
     "data": {
      "image/png": "[encoded data removed]"
     },
     "metadata": {},
     "output_type": "display_data"
    }
   ],
   "source": [
    "plt.plot(R[0,:], R[1,:], '.b')"
   ]
  },
  {
   "cell_type": "code",
   "execution_count": null,
   "metadata": {},
   "outputs": [],
   "source": [
    ""
   ]
  }
 ],
 "metadata": {
  "kernelspec": {
   "display_name": "Python 2",
   "language": "python",
   "name": "python2"
  },
  "language_info": {
   "codemirror_mode": {
    "name": "ipython",
    "version": 2
   },
   "file_extension": ".py",
   "mimetype": "text/x-python",
   "name": "python",
   "nbconvert_exporter": "python",
   "pygments_lexer": "ipython2",
   "version": "2.7.14"
  }
 },
 "nbformat": 4,
 "nbformat_minor": 1
}
